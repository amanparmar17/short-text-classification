{
  "nbformat": 4,
  "nbformat_minor": 0,
  "metadata": {
    "colab": {
      "name": "Copy of LSTM.ipynb",
      "provenance": [],
      "toc_visible": true
    },
    "kernelspec": {
      "name": "python3",
      "display_name": "Python 3"
    }
  },
  "cells": [
    {
      "cell_type": "markdown",
      "metadata": {
        "id": "YzER7ralCYOw",
        "colab_type": "text"
      },
      "source": [
        "# Use of LSTM for short text classification"
      ]
    },
    {
      "cell_type": "code",
      "metadata": {
        "id": "-Yx16Tv-CTi4",
        "colab_type": "code",
        "outputId": "638a2829-3010-4035-f1e5-ddd44fd4d5f1",
        "colab": {
          "base_uri": "https://localhost:8080/",
          "height": 51
        }
      },
      "source": [
        "# install pickle\n",
        "!pip install pickle"
      ],
      "execution_count": 0,
      "outputs": [
        {
          "output_type": "stream",
          "text": [
            "\u001b[31mERROR: Could not find a version that satisfies the requirement pickle (from versions: none)\u001b[0m\n",
            "\u001b[31mERROR: No matching distribution found for pickle\u001b[0m\n"
          ],
          "name": "stdout"
        }
      ]
    },
    {
      "cell_type": "code",
      "metadata": {
        "id": "r6_X4S9kD9mg",
        "colab_type": "code",
        "outputId": "dd489e9c-1b56-4420-da46-3dacc0140301",
        "colab": {
          "base_uri": "https://localhost:8080/",
          "height": 54
        }
      },
      "source": [
        "# mounting the drive to colab\n",
        "from google.colab import drive\n",
        "drive.mount('/content/drive')"
      ],
      "execution_count": 0,
      "outputs": [
        {
          "output_type": "stream",
          "text": [
            "Drive already mounted at /content/drive; to attempt to forcibly remount, call drive.mount(\"/content/drive\", force_remount=True).\n"
          ],
          "name": "stdout"
        }
      ]
    },
    {
      "cell_type": "code",
      "metadata": {
        "id": "bk6MyWizEs2s",
        "colab_type": "code",
        "colab": {}
      },
      "source": [
        "import pandas as pd"
      ],
      "execution_count": 0,
      "outputs": []
    },
    {
      "cell_type": "code",
      "metadata": {
        "id": "8EZa964hEEt5",
        "colab_type": "code",
        "colab": {}
      },
      "source": [
        "#importing the proper target dataset\n",
        "dataset1=pd.read_csv(\"/content/drive/My Drive/MAJOR 2- WORK IN PROGRESS/dataset_25classes_less7000.csv\")\n",
        "dataset2=pd.read_csv(\"/content/drive/My Drive/MAJOR 2- WORK IN PROGRESS/dataset_17classes_more7000.csv\")\n"
      ],
      "execution_count": 0,
      "outputs": []
    },
    {
      "cell_type": "code",
      "metadata": {
        "id": "qdKnhQw4ErCV",
        "colab_type": "code",
        "outputId": "3d67f627-2def-4b79-ac92-676850cbb01d",
        "colab": {
          "base_uri": "https://localhost:8080/",
          "height": 1000
        }
      },
      "source": [
        "# quick analysis of dataset1\n",
        "\n",
        "#shape of the dataset\n",
        "print(dataset1.shape)\n",
        "print(\"========================================================\")\n",
        "\n",
        "#finding the columns in the dataset\n",
        "print(dataset1.columns)\n",
        "print(\"========================================================\")\n",
        "\n",
        "#all the unique classes\n",
        "po=dataset1.category.unique()\n",
        "for i in po:\n",
        "    print(i)\n",
        "print(\"========================================================\")\n",
        "\n",
        "#number of different classes in the dataset\n",
        "print(len(po))\n",
        "print(\"========================================================\")\n",
        "\n",
        "#value count for each of the class in the dataset\n",
        "print(dataset1.category.value_counts())\n",
        "print(\"========================================================\")\n",
        "\n",
        "#dropping the na isntances from the dataset, adn counting the value counts again\n",
        "dataset1=dataset1.dropna()\n",
        "print(dataset1.shape)\n",
        "print(\"========================================================\")\n",
        "print(dataset1.category.value_counts())\n",
        "print(\"========================================================\")\n"
      ],
      "execution_count": 0,
      "outputs": [
        {
          "output_type": "stream",
          "text": [
            "(93384, 3)\n",
            "========================================================\n",
            "Index(['Unnamed: 0', 'text_instance', 'category'], dtype='object')\n",
            "========================================================\n",
            "CRIME\n",
            "WORLD NEWS\n",
            "IMPACT\n",
            "WEIRD NEWS\n",
            "WOMEN\n",
            "MEDIA\n",
            "TECH\n",
            "RELIGION\n",
            "SCIENCE\n",
            "LATINO VOICES\n",
            "EDUCATION\n",
            "COLLEGE\n",
            "ARTS & CULTURE\n",
            "STYLE\n",
            "GREEN\n",
            "TASTE\n",
            "GOOD NEWS\n",
            "WORLDPOST\n",
            "FIFTY\n",
            "ARTS\n",
            "DIVORCE\n",
            "MONEY\n",
            "ENVIRONMENT\n",
            "CULTURE & ARTS\n",
            "========================================================\n",
            "24\n",
            "========================================================\n",
            "DIVORCE           6852\n",
            "WOMEN             6592\n",
            "IMPACT            6520\n",
            "CRIME             6080\n",
            "MEDIA             5088\n",
            "WEIRD NEWS        4879\n",
            "GREEN             4668\n",
            "RELIGION          4413\n",
            "WORLD NEWS        4352\n",
            "TECH              4163\n",
            "TASTE             4036\n",
            "SCIENCE           3953\n",
            "STYLE             3821\n",
            "WORLDPOST         3820\n",
            "MONEY             3413\n",
            "ARTS & CULTURE    2678\n",
            "ENVIRONMENT       2644\n",
            "FIFTY             2443\n",
            "GOOD NEWS         2437\n",
            "ARTS              2372\n",
            "LATINO VOICES     2150\n",
            "COLLEGE           2065\n",
            "CULTURE & ARTS    2049\n",
            "EDUCATION         1896\n",
            "Name: category, dtype: int64\n",
            "========================================================\n",
            "(93384, 3)\n",
            "========================================================\n",
            "DIVORCE           6852\n",
            "WOMEN             6592\n",
            "IMPACT            6520\n",
            "CRIME             6080\n",
            "MEDIA             5088\n",
            "WEIRD NEWS        4879\n",
            "GREEN             4668\n",
            "RELIGION          4413\n",
            "WORLD NEWS        4352\n",
            "TECH              4163\n",
            "TASTE             4036\n",
            "SCIENCE           3953\n",
            "STYLE             3821\n",
            "WORLDPOST         3820\n",
            "MONEY             3413\n",
            "ARTS & CULTURE    2678\n",
            "ENVIRONMENT       2644\n",
            "FIFTY             2443\n",
            "GOOD NEWS         2437\n",
            "ARTS              2372\n",
            "LATINO VOICES     2150\n",
            "COLLEGE           2065\n",
            "CULTURE & ARTS    2049\n",
            "EDUCATION         1896\n",
            "Name: category, dtype: int64\n",
            "========================================================\n"
          ],
          "name": "stdout"
        }
      ]
    },
    {
      "cell_type": "code",
      "metadata": {
        "id": "sfLxPtsFFrVF",
        "colab_type": "code",
        "outputId": "067efa40-143e-4c4f-f416-2093625f6d74",
        "colab": {
          "base_uri": "https://localhost:8080/",
          "height": 459
        }
      },
      "source": [
        "#combining some of the similar classes into 1\n",
        "print(\"combining some of the classes into 1....\")\n",
        "dataset1['category'].replace({\"COLLEGE\":\"COLLEGE & EDUCATION\",\"EDUCATION\":\"COLLEGE & EDUCATION\",\n",
        "                          \"GREEN\":\"ENVIRONMENT\",\"TECH\":\"TECH & SCIENCE\",\"SCIENCE\":\"TECH & SCIENCE\",\n",
        "                          \"CULTURE & ARTS\":\"ARTS & CULTURE\",\"WEIRD NEWS\":\"NEWS\",\"GOOD NEWS\":\"NEWS\",\"WORLD NEWS\":\"NEWS\",\"ARTS\":\"ARTS & CULTURE\"}, inplace=True)\n",
        "\n",
        "removed_classes=[\"LATINO VOICES\",\"FIFTY\"]\n",
        "dataset1=dataset1[~dataset1['category'].isin(removed_classes)]\n",
        "print(\"processing DONE.\")\n",
        "\n",
        "\n",
        "#value count of the new dataset formed\n",
        "print(dataset1.category.value_counts())\n",
        "print(\"========================================================\")\n",
        "\n",
        "#printing the head of the dataset\n",
        "print(dataset1.head(5))\n",
        "print(\"========================================================\")\n"
      ],
      "execution_count": 0,
      "outputs": [
        {
          "output_type": "stream",
          "text": [
            "combining some of the classes into 1....\n",
            "processing DONE.\n",
            "NEWS                   11668\n",
            "TECH & SCIENCE          8116\n",
            "ENVIRONMENT             7312\n",
            "ARTS & CULTURE          7099\n",
            "DIVORCE                 6852\n",
            "WOMEN                   6592\n",
            "IMPACT                  6520\n",
            "CRIME                   6080\n",
            "MEDIA                   5088\n",
            "RELIGION                4413\n",
            "TASTE                   4036\n",
            "COLLEGE & EDUCATION     3961\n",
            "STYLE                   3821\n",
            "WORLDPOST               3820\n",
            "MONEY                   3413\n",
            "Name: category, dtype: int64\n",
            "========================================================\n",
            "   Unnamed: 0                                      text_instance category\n",
            "0           0  There Were 2 Mass Shootings In Texas Last Week...    CRIME\n",
            "1           1  She left her husband. He killed their children...    CRIME\n",
            "2          22  South Korean President Meets North Korea's Kim...     NEWS\n",
            "3          23  The two met to pave the way for a summit betwe...     NEWS\n",
            "4          24  With Its Way Of Life At Risk, This Remote Oyst...   IMPACT\n",
            "========================================================\n"
          ],
          "name": "stdout"
        }
      ]
    },
    {
      "cell_type": "code",
      "metadata": {
        "id": "ZgPRswQ1KiS_",
        "colab_type": "code",
        "colab": {}
      },
      "source": [
        "# adding a new column in the dataset for holding the factorised value of the classes\n",
        "import numpy as np\n",
        "dataset1['factor_class'] = np.nan"
      ],
      "execution_count": 0,
      "outputs": []
    },
    {
      "cell_type": "code",
      "metadata": {
        "id": "z-f5flqDIuvw",
        "colab_type": "code",
        "outputId": "94b31937-2f31-4d03-f373-4f3e82f8f47b",
        "colab": {
          "base_uri": "https://localhost:8080/",
          "height": 85
        }
      },
      "source": [
        "# factorising the caterogy column of the dataset .i.e, converting classes into numbers using hard code\n",
        "\n",
        "print(\"creating a dictionary for mapping each class to a unique number\")\n",
        "classes=dataset1.category.unique()\n",
        "count =1\n",
        "dict_classes= {}\n",
        "for i in classes:\n",
        "    dict_classes[i]=count\n",
        "    count+=1\n",
        "\n",
        "print(\"final value of count \", count)\n",
        "print(\"========================================================\")\n",
        "\n"
      ],
      "execution_count": 0,
      "outputs": [
        {
          "output_type": "stream",
          "text": [
            "creating a dictionary for mapping each class to a unique number\n",
            "final value of count  16\n",
            "========================================================\n",
            "making the appropriate changes in the dataset using the dictionary created\n"
          ],
          "name": "stdout"
        }
      ]
    },
    {
      "cell_type": "code",
      "metadata": {
        "id": "_hq35-D1Ipg7",
        "colab_type": "code",
        "outputId": "8083109d-2f28-4dfe-95ad-6eff1d2c717c",
        "colab": {
          "base_uri": "https://localhost:8080/",
          "height": 54
        }
      },
      "source": [
        "print(dict_classes)"
      ],
      "execution_count": 0,
      "outputs": [
        {
          "output_type": "stream",
          "text": [
            "{'CRIME': 1, 'NEWS': 2, 'IMPACT': 3, 'WOMEN': 4, 'MEDIA': 5, 'TECH & SCIENCE': 6, 'RELIGION': 7, 'COLLEGE & EDUCATION': 8, 'ARTS & CULTURE': 9, 'STYLE': 10, 'ENVIRONMENT': 11, 'TASTE': 12, 'WORLDPOST': 13, 'DIVORCE': 14, 'MONEY': 15}\n"
          ],
          "name": "stdout"
        }
      ]
    },
    {
      "cell_type": "code",
      "metadata": {
        "id": "v6GQ5ty3KhMd",
        "colab_type": "code",
        "colab": {}
      },
      "source": [
        "print(\"making the appropriate changes in the dataset using the dictionary created\")\n",
        "print(\"========================================================\")\n",
        "\n",
        "for i in range(0,len(dataset1)):\n",
        "    dataset1.iloc[i,3]=int(dict_classes[dataset1.iloc[i,2]])"
      ],
      "execution_count": 0,
      "outputs": []
    },
    {
      "cell_type": "code",
      "metadata": {
        "id": "4JfU31WmRL9N",
        "colab_type": "code",
        "outputId": "9a86609c-0767-478a-9d6b-8aa5138ba17b",
        "colab": {
          "base_uri": "https://localhost:8080/",
          "height": 359
        }
      },
      "source": [
        "dataset1.head(10)\n"
      ],
      "execution_count": 0,
      "outputs": [
        {
          "output_type": "execute_result",
          "data": {
            "text/html": [
              "<div>\n",
              "<style scoped>\n",
              "    .dataframe tbody tr th:only-of-type {\n",
              "        vertical-align: middle;\n",
              "    }\n",
              "\n",
              "    .dataframe tbody tr th {\n",
              "        vertical-align: top;\n",
              "    }\n",
              "\n",
              "    .dataframe thead th {\n",
              "        text-align: right;\n",
              "    }\n",
              "</style>\n",
              "<table border=\"1\" class=\"dataframe\">\n",
              "  <thead>\n",
              "    <tr style=\"text-align: right;\">\n",
              "      <th></th>\n",
              "      <th>Unnamed: 0</th>\n",
              "      <th>text_instance</th>\n",
              "      <th>category</th>\n",
              "      <th>factor_class</th>\n",
              "    </tr>\n",
              "  </thead>\n",
              "  <tbody>\n",
              "    <tr>\n",
              "      <th>0</th>\n",
              "      <td>0</td>\n",
              "      <td>There Were 2 Mass Shootings In Texas Last Week...</td>\n",
              "      <td>CRIME</td>\n",
              "      <td>1.0</td>\n",
              "    </tr>\n",
              "    <tr>\n",
              "      <th>1</th>\n",
              "      <td>1</td>\n",
              "      <td>She left her husband. He killed their children...</td>\n",
              "      <td>CRIME</td>\n",
              "      <td>1.0</td>\n",
              "    </tr>\n",
              "    <tr>\n",
              "      <th>2</th>\n",
              "      <td>22</td>\n",
              "      <td>South Korean President Meets North Korea's Kim...</td>\n",
              "      <td>NEWS</td>\n",
              "      <td>2.0</td>\n",
              "    </tr>\n",
              "    <tr>\n",
              "      <th>3</th>\n",
              "      <td>23</td>\n",
              "      <td>The two met to pave the way for a summit betwe...</td>\n",
              "      <td>NEWS</td>\n",
              "      <td>2.0</td>\n",
              "    </tr>\n",
              "    <tr>\n",
              "      <th>4</th>\n",
              "      <td>24</td>\n",
              "      <td>With Its Way Of Life At Risk, This Remote Oyst...</td>\n",
              "      <td>IMPACT</td>\n",
              "      <td>3.0</td>\n",
              "    </tr>\n",
              "    <tr>\n",
              "      <th>5</th>\n",
              "      <td>25</td>\n",
              "      <td>The revolution is coming to rural New Brunswick.</td>\n",
              "      <td>IMPACT</td>\n",
              "      <td>3.0</td>\n",
              "    </tr>\n",
              "    <tr>\n",
              "      <th>6</th>\n",
              "      <td>40</td>\n",
              "      <td>Weird Father's Day Gifts Your Dad Doesn't Know...</td>\n",
              "      <td>NEWS</td>\n",
              "      <td>2.0</td>\n",
              "    </tr>\n",
              "    <tr>\n",
              "      <th>7</th>\n",
              "      <td>41</td>\n",
              "      <td>Why buy a boring tie when you can give him tes...</td>\n",
              "      <td>NEWS</td>\n",
              "      <td>2.0</td>\n",
              "    </tr>\n",
              "    <tr>\n",
              "      <th>8</th>\n",
              "      <td>44</td>\n",
              "      <td>Mystery 'Wolf-Like' Animal Reportedly Shot In ...</td>\n",
              "      <td>NEWS</td>\n",
              "      <td>2.0</td>\n",
              "    </tr>\n",
              "    <tr>\n",
              "      <th>9</th>\n",
              "      <td>45</td>\n",
              "      <td>“We have no idea what this was until we get a ...</td>\n",
              "      <td>NEWS</td>\n",
              "      <td>2.0</td>\n",
              "    </tr>\n",
              "  </tbody>\n",
              "</table>\n",
              "</div>"
            ],
            "text/plain": [
              "   Unnamed: 0  ... factor_class\n",
              "0           0  ...          1.0\n",
              "1           1  ...          1.0\n",
              "2          22  ...          2.0\n",
              "3          23  ...          2.0\n",
              "4          24  ...          3.0\n",
              "5          25  ...          3.0\n",
              "6          40  ...          2.0\n",
              "7          41  ...          2.0\n",
              "8          44  ...          2.0\n",
              "9          45  ...          2.0\n",
              "\n",
              "[10 rows x 4 columns]"
            ]
          },
          "metadata": {
            "tags": []
          },
          "execution_count": 29
        }
      ]
    },
    {
      "cell_type": "code",
      "metadata": {
        "id": "zFxVr16TRfnH",
        "colab_type": "code",
        "outputId": "e955005d-de8b-4d49-8dbf-32a43dfe26a7",
        "colab": {
          "base_uri": "https://localhost:8080/",
          "height": 34
        }
      },
      "source": [
        "print(type(dataset1.factor_class))"
      ],
      "execution_count": 0,
      "outputs": [
        {
          "output_type": "stream",
          "text": [
            "<class 'pandas.core.series.Series'>\n"
          ],
          "name": "stdout"
        }
      ]
    },
    {
      "cell_type": "markdown",
      "metadata": {
        "id": "8sGN0zF_VeRt",
        "colab_type": "text"
      },
      "source": [
        "dataset 1 finalised - importing it into another dataset saved at the same location"
      ]
    },
    {
      "cell_type": "code",
      "metadata": {
        "id": "DZt9n-yaVQ37",
        "colab_type": "code",
        "colab": {}
      },
      "source": [
        "dataset1.to_csv(\"/content/drive/My Drive/MAJOR 2- WORK IN PROGRESS/LSTM/datset_lstm_15classes.csv\")"
      ],
      "execution_count": 0,
      "outputs": []
    },
    {
      "cell_type": "markdown",
      "metadata": {
        "id": "lxn1AsW-WNpr",
        "colab_type": "text"
      },
      "source": [
        "similarly handling dataset 2"
      ]
    },
    {
      "cell_type": "code",
      "metadata": {
        "id": "aUcKQU24WC3e",
        "colab_type": "code",
        "outputId": "2f33469c-7419-4bba-fdeb-c97bdd73afbc",
        "colab": {
          "base_uri": "https://localhost:8080/",
          "height": 1000
        }
      },
      "source": [
        "\n",
        "#shape of the dataset\n",
        "print(dataset2.shape)\n",
        "print(\"========================================================\")\n",
        "\n",
        "#finding the columns in the dataset\n",
        "print(dataset2.columns)\n",
        "print(\"========================================================\")\n",
        "\n",
        "#all the unique classes\n",
        "po=dataset2.category.unique()\n",
        "for i in po:\n",
        "    print(i)\n",
        "print(\"========================================================\")\n",
        "\n",
        "#number of different classes in the dataset\n",
        "print(len(po))\n",
        "print(\"========================================================\")\n",
        "\n",
        "#value count for each of the class in the dataset\n",
        "print(dataset2.category.value_counts())\n",
        "print(\"========================================================\")\n",
        "\n",
        "#dropping the na isntances from the dataset, adn counting the value counts again\n",
        "dataset1=dataset2.dropna()\n",
        "print(dataset2.shape)\n",
        "print(\"========================================================\")\n",
        "print(dataset2.category.value_counts())\n",
        "print(\"========================================================\")\n"
      ],
      "execution_count": 0,
      "outputs": [
        {
          "output_type": "stream",
          "text": [
            "(300120, 3)\n",
            "========================================================\n",
            "Index(['Unnamed: 0', 'text_instance', 'category'], dtype='object')\n",
            "========================================================\n",
            "ENTERTAINMENT\n",
            "POLITICS\n",
            "BLACK VOICES\n",
            "COMEDY\n",
            "QUEER VOICES\n",
            "SPORTS\n",
            "BUSINESS\n",
            "TRAVEL\n",
            "PARENTS\n",
            "HEALTHY LIVING\n",
            "THE WORLDPOST\n",
            "WELLNESS\n",
            "PARENTING\n",
            "HOME & LIVING\n",
            "STYLE & BEAUTY\n",
            "WEDDINGS\n",
            "FOOD & DRINK\n",
            "========================================================\n",
            "17\n",
            "========================================================\n",
            "POLITICS          65478\n",
            "WELLNESS          35654\n",
            "ENTERTAINMENT     32116\n",
            "TRAVEL            19774\n",
            "STYLE & BEAUTY    19298\n",
            "PARENTING         17354\n",
            "HEALTHY LIVING    13388\n",
            "QUEER VOICES      12628\n",
            "FOOD & DRINK      12452\n",
            "BUSINESS          11874\n",
            "COMEDY            10350\n",
            "SPORTS             9768\n",
            "BLACK VOICES       9056\n",
            "HOME & LIVING      8390\n",
            "PARENTS            7910\n",
            "THE WORLDPOST      7328\n",
            "WEDDINGS           7302\n",
            "Name: category, dtype: int64\n",
            "========================================================\n",
            "(300120, 3)\n",
            "========================================================\n",
            "POLITICS          65478\n",
            "WELLNESS          35654\n",
            "ENTERTAINMENT     32116\n",
            "TRAVEL            19774\n",
            "STYLE & BEAUTY    19298\n",
            "PARENTING         17354\n",
            "HEALTHY LIVING    13388\n",
            "QUEER VOICES      12628\n",
            "FOOD & DRINK      12452\n",
            "BUSINESS          11874\n",
            "COMEDY            10350\n",
            "SPORTS             9768\n",
            "BLACK VOICES       9056\n",
            "HOME & LIVING      8390\n",
            "PARENTS            7910\n",
            "THE WORLDPOST      7328\n",
            "WEDDINGS           7302\n",
            "Name: category, dtype: int64\n",
            "========================================================\n"
          ],
          "name": "stdout"
        }
      ]
    },
    {
      "cell_type": "code",
      "metadata": {
        "id": "eSbdqkPbYOj7",
        "colab_type": "code",
        "outputId": "ba079d23-05fd-44a8-d8b6-15d0696e4afb",
        "colab": {
          "base_uri": "https://localhost:8080/",
          "height": 442
        }
      },
      "source": [
        "print(\"combining some of the classes into 1....\")\n",
        "dataset2['category'].replace({\"PARENTS\":\"PARENTING\",\"COMEDY\":\"ENTERTAINMENT\",\n",
        "                          \"QUEER VOICES\":\"VOICES\",\"BLACK VOICES\":\"VOICES\"}, inplace=True)\n",
        "\n",
        "# removed_classes=[\"LATINO VOICES\",\"FIFTY\"]\n",
        "# dataset1=dataset1[~dataset1['category'].isin(removed_classes)]\n",
        "print(\"processing DONE.\")\n",
        "\n",
        "\n",
        "#value count of the new dataset formed\n",
        "print(dataset2.category.value_counts())\n",
        "print(\"========================================================\")\n",
        "\n",
        "#printing the head of the dataset\n",
        "print(dataset2.head(5))\n",
        "print(\"========================================================\")"
      ],
      "execution_count": 0,
      "outputs": [
        {
          "output_type": "stream",
          "text": [
            "combining some of the classes into 1....\n",
            "processing DONE.\n",
            "POLITICS          65478\n",
            "ENTERTAINMENT     42466\n",
            "WELLNESS          35654\n",
            "PARENTING         25264\n",
            "VOICES            21684\n",
            "TRAVEL            19774\n",
            "STYLE & BEAUTY    19298\n",
            "HEALTHY LIVING    13388\n",
            "FOOD & DRINK      12452\n",
            "BUSINESS          11874\n",
            "SPORTS             9768\n",
            "HOME & LIVING      8390\n",
            "THE WORLDPOST      7328\n",
            "WEDDINGS           7302\n",
            "Name: category, dtype: int64\n",
            "========================================================\n",
            "   Unnamed: 0                                      text_instance       category\n",
            "0           2  Will Smith Joins Diplo And Nicky Jam For The 2...  ENTERTAINMENT\n",
            "1           3                           Of course it has a song.  ENTERTAINMENT\n",
            "2           4    Hugh Grant Marries For The First Time At Age 57  ENTERTAINMENT\n",
            "3           5  The actor and his longtime girlfriend Anna Ebe...  ENTERTAINMENT\n",
            "4           6  Jim Carrey Blasts 'Castrato' Adam Schiff And D...  ENTERTAINMENT\n",
            "========================================================\n"
          ],
          "name": "stdout"
        }
      ]
    },
    {
      "cell_type": "code",
      "metadata": {
        "id": "KmQCxDa9mzEA",
        "colab_type": "code",
        "colab": {}
      },
      "source": [
        "dataset2['factor_classes'] =np.nan"
      ],
      "execution_count": 0,
      "outputs": []
    },
    {
      "cell_type": "code",
      "metadata": {
        "id": "zCM_X8Slky0A",
        "colab_type": "code",
        "outputId": "433fb8dc-1204-4108-9182-5fcca6c8f2fd",
        "colab": {
          "base_uri": "https://localhost:8080/",
          "height": 68
        }
      },
      "source": [
        "# factorising the caterogy column of the dataset .i.e, converting classes into numbers using hard code\n",
        "\n",
        "print(\"creating a dictionary for mapping each class to a unique number\")\n",
        "classes=dataset2.category.unique()\n",
        "count =1\n",
        "dict_classes= {}\n",
        "for i in classes:\n",
        "    dict_classes[i]=count\n",
        "    count+=1\n",
        "\n",
        "print(\"final value of count \", count)\n",
        "print(\"========================================================\")\n",
        "\n"
      ],
      "execution_count": 0,
      "outputs": [
        {
          "output_type": "stream",
          "text": [
            "creating a dictionary for mapping each class to a unique number\n",
            "final value of count  15\n",
            "========================================================\n"
          ],
          "name": "stdout"
        }
      ]
    },
    {
      "cell_type": "code",
      "metadata": {
        "id": "bCCatIIYmJTT",
        "colab_type": "code",
        "outputId": "4bafa210-48f1-480f-9343-939d945065fa",
        "colab": {
          "base_uri": "https://localhost:8080/",
          "height": 54
        }
      },
      "source": [
        "print(dict_classes)"
      ],
      "execution_count": 0,
      "outputs": [
        {
          "output_type": "stream",
          "text": [
            "{'ENTERTAINMENT': 1, 'POLITICS': 2, 'VOICES': 3, 'SPORTS': 4, 'BUSINESS': 5, 'TRAVEL': 6, 'PARENTING': 7, 'HEALTHY LIVING': 8, 'THE WORLDPOST': 9, 'WELLNESS': 10, 'HOME & LIVING': 11, 'STYLE & BEAUTY': 12, 'WEDDINGS': 13, 'FOOD & DRINK': 14}\n"
          ],
          "name": "stdout"
        }
      ]
    },
    {
      "cell_type": "code",
      "metadata": {
        "id": "WLz6ioVfmLSb",
        "colab_type": "code",
        "outputId": "84c73f27-f1e3-4b35-b70d-474366fa226e",
        "colab": {
          "base_uri": "https://localhost:8080/",
          "height": 51
        }
      },
      "source": [
        "print(\"making the appropriate changes in the dataset using the dictionary created\")\n",
        "print(\"========================================================\")\n",
        "\n",
        "for i in range(0,len(dataset2)):\n",
        "    dataset2.iloc[i,3]=int(dict_classes[dataset2.iloc[i,2]])"
      ],
      "execution_count": 0,
      "outputs": [
        {
          "output_type": "stream",
          "text": [
            "making the appropriate changes in the dataset using the dictionary created\n",
            "========================================================\n"
          ],
          "name": "stdout"
        }
      ]
    },
    {
      "cell_type": "code",
      "metadata": {
        "id": "tl26Kk5FpBZl",
        "colab_type": "code",
        "outputId": "4dc25f4c-dfab-4691-f0c9-98c730ff5d2d",
        "colab": {
          "base_uri": "https://localhost:8080/",
          "height": 34
        }
      },
      "source": [
        "dataset2.columns"
      ],
      "execution_count": 0,
      "outputs": [
        {
          "output_type": "execute_result",
          "data": {
            "text/plain": [
              "Index(['Unnamed: 0', 'text_instance', 'category', 'factor_classes'], dtype='object')"
            ]
          },
          "metadata": {
            "tags": []
          },
          "execution_count": 44
        }
      ]
    },
    {
      "cell_type": "code",
      "metadata": {
        "id": "R2CTlHKsmMDI",
        "colab_type": "code",
        "outputId": "0326952c-5adb-423b-944a-52e5ec02d09b",
        "colab": {
          "base_uri": "https://localhost:8080/",
          "height": 340
        }
      },
      "source": [
        "print(dataset2.head(10))\n",
        "print(len(dataset2.category.unique()))\n",
        "\n",
        "print(dataset2.iloc[1,:])"
      ],
      "execution_count": 0,
      "outputs": [
        {
          "output_type": "stream",
          "text": [
            "   Unnamed: 0  ... factor_classes\n",
            "0           2  ...            1.0\n",
            "1           3  ...            1.0\n",
            "2           4  ...            1.0\n",
            "3           5  ...            1.0\n",
            "4           6  ...            1.0\n",
            "5           7  ...            1.0\n",
            "6           8  ...            1.0\n",
            "7           9  ...            1.0\n",
            "8          10  ...            1.0\n",
            "9          11  ...            1.0\n",
            "\n",
            "[10 rows x 4 columns]\n",
            "14\n",
            "Unnamed: 0                               3\n",
            "text_instance     Of course it has a song.\n",
            "category                     ENTERTAINMENT\n",
            "factor_classes                           1\n",
            "Name: 1, dtype: object\n"
          ],
          "name": "stdout"
        }
      ]
    },
    {
      "cell_type": "code",
      "metadata": {
        "id": "a2Aid0mzmPEO",
        "colab_type": "code",
        "colab": {}
      },
      "source": [
        "#importing the dataset to another file in the same location\n",
        "dataset2.to_csv(\"/content/drive/My Drive/MAJOR 2- WORK IN PROGRESS/LSTM/developed_dataset_lstm_14classes_more7000.csv\")"
      ],
      "execution_count": 0,
      "outputs": []
    },
    {
      "cell_type": "markdown",
      "metadata": {
        "id": "BEsRoBCLpeZp",
        "colab_type": "text"
      },
      "source": [
        "once the dataset is prepared, we can move fwd with the development of an LSTM model"
      ]
    },
    {
      "cell_type": "markdown",
      "metadata": {
        "id": "iKSXB_5BpnRC",
        "colab_type": "text"
      },
      "source": [
        "# LSTM: long short term memory model"
      ]
    },
    {
      "cell_type": "markdown",
      "metadata": {
        "id": "CRPcGQu5sdPo",
        "colab_type": "text"
      },
      "source": [
        "preprocessing the text instances to clean them a bit\n",
        "\n",
        "\n",
        "*   Convert all text to lower case.\n",
        "\n",
        "*   Remove symbols that are in BAD_SYMBOLS_RE from text.\n",
        "*   Replace REPLACE_BY_SPACE_RE symbols by space in text.\n",
        "\n",
        "\n",
        "*   Remove “x” in text.\n",
        "\n",
        "*   Remove stop words.\n",
        "*   Remove digits in text.\n",
        "\n",
        "\n",
        "also we will be using dataset1 for this exercise"
      ]
    },
    {
      "cell_type": "code",
      "metadata": {
        "id": "Fn4mco_-tmm6",
        "colab_type": "code",
        "colab": {}
      },
      "source": [
        "import numpy as np\n",
        "import pandas as pd\n",
        "import re\n",
        "from nltk.corpus import stopwords\n"
      ],
      "execution_count": 0,
      "outputs": []
    },
    {
      "cell_type": "code",
      "metadata": {
        "id": "MWd8bLuq3rX7",
        "colab_type": "code",
        "outputId": "77014c36-8f31-44a0-b0cd-9b65fea1b447",
        "colab": {
          "base_uri": "https://localhost:8080/",
          "height": 68
        }
      },
      "source": [
        "# downloading the stopwords\n",
        "nltk.download(\"stopwords\")"
      ],
      "execution_count": 0,
      "outputs": [
        {
          "output_type": "stream",
          "text": [
            "[nltk_data] Downloading package stopwords to /root/nltk_data...\n",
            "[nltk_data]   Unzipping corpora/stopwords.zip.\n"
          ],
          "name": "stdout"
        },
        {
          "output_type": "execute_result",
          "data": {
            "text/plain": [
              "True"
            ]
          },
          "metadata": {
            "tags": []
          },
          "execution_count": 55
        }
      ]
    },
    {
      "cell_type": "code",
      "metadata": {
        "id": "HHeY07FysgfB",
        "colab_type": "code",
        "colab": {}
      },
      "source": [
        "df=dataset1\n",
        "df = df.reset_index(drop=True)\n",
        "REPLACE_BY_SPACE_RE = re.compile('[/(){}\\[\\]\\|@,;]')\n",
        "BAD_SYMBOLS_RE = re.compile('[^0-9a-z #+_]')\n",
        "STOPWORDS = set(stopwords.words('english'))\n",
        "\n",
        "def clean_text(text):\n",
        "    \"\"\"\n",
        "        text: a string\n",
        "        \n",
        "        return: modified initial string\n",
        "    \"\"\"\n",
        "    text = text.lower() # lowercase text\n",
        "    text = REPLACE_BY_SPACE_RE.sub(' ', text) # replace REPLACE_BY_SPACE_RE symbols by space in text. substitute the matched string in REPLACE_BY_SPACE_RE with space.\n",
        "    text = BAD_SYMBOLS_RE.sub('', text) # remove symbols which are in BAD_SYMBOLS_RE from text. substitute the matched string in BAD_SYMBOLS_RE with nothing. \n",
        "    text = text.replace('x', '')\n",
        "#    text = re.sub(r'\\W+', '', text)\n",
        "    text = ' '.join(word for word in text.split() if word not in STOPWORDS) # remove stopwors from text\n",
        "    return text\n",
        "df['text_instance'] = df['text_instance'].apply(clean_text)\n",
        "df['text_instance'] = df['text_instance'].str.replace('\\d+', '')"
      ],
      "execution_count": 0,
      "outputs": []
    },
    {
      "cell_type": "markdown",
      "metadata": {
        "id": "34WacX_D34h5",
        "colab_type": "text"
      },
      "source": [
        "lstm modelling"
      ]
    },
    {
      "cell_type": "code",
      "metadata": {
        "id": "WKJUoiO27Dei",
        "colab_type": "code",
        "colab": {}
      },
      "source": [
        "from keras.preprocessing.text import Tokenizer\n",
        "from keras.preprocessing.sequence import pad_sequences\n"
      ],
      "execution_count": 0,
      "outputs": []
    },
    {
      "cell_type": "code",
      "metadata": {
        "id": "b9QuB5kvpXID",
        "colab_type": "code",
        "outputId": "5200011e-8107-4ad1-a71b-9de77b3a5edf",
        "colab": {
          "base_uri": "https://localhost:8080/",
          "height": 34
        }
      },
      "source": [
        "\n",
        "# Vectorize consumer complaints text, by turning each text into either a sequence of integers or into a vector.\n",
        "# Limit the data set to the top 5,0000 words.\n",
        "# Set the max number of words in each complaint at 250.\n",
        "\n",
        "\n",
        "# The maximum number of words to be used. (most frequent)\n",
        "MAX_NB_WORDS = 50000\n",
        "# Max number of words in each complaint.\n",
        "MAX_SEQUENCE_LENGTH = 250\n",
        "# This is fixed.\n",
        "EMBEDDING_DIM = 100\n",
        "tokenizer = Tokenizer(num_words=MAX_NB_WORDS, filters='!\"#$%&()*+,-./:;<=>?@[\\]^_`{|}~', lower=True)\n",
        "tokenizer.fit_on_texts(df['text_instance'].values)\n",
        "word_index = tokenizer.word_index\n",
        "print('Found %s unique tokens.' % len(word_index))"
      ],
      "execution_count": 0,
      "outputs": [
        {
          "output_type": "stream",
          "text": [
            "Found 91596 unique tokens.\n"
          ],
          "name": "stdout"
        }
      ]
    },
    {
      "cell_type": "code",
      "metadata": {
        "id": "q2Vos8i14FEX",
        "colab_type": "code",
        "outputId": "b24c278d-6262-4573-b717-ca81cec60cc0",
        "colab": {
          "base_uri": "https://localhost:8080/",
          "height": 34
        }
      },
      "source": [
        "# Truncate and pad the input sequences so that they are all in the same length for modeling.\n",
        "\n",
        "\n",
        "X = tokenizer.texts_to_sequences(df['text_instance'].values)\n",
        "X = pad_sequences(X, maxlen=MAX_SEQUENCE_LENGTH)\n",
        "print('Shape of data tensor:', X.shape)"
      ],
      "execution_count": 0,
      "outputs": [
        {
          "output_type": "stream",
          "text": [
            "Shape of data tensor: (288603, 250)\n"
          ],
          "name": "stdout"
        }
      ]
    },
    {
      "cell_type": "code",
      "metadata": {
        "id": "wN-Povzd4HKp",
        "colab_type": "code",
        "outputId": "3a22d59e-6bed-4735-bf71-528a8df38936",
        "colab": {
          "base_uri": "https://localhost:8080/",
          "height": 34
        }
      },
      "source": [
        "# Converting categorical labels to numbers.\n",
        "# \n",
        "\n",
        "\n",
        "Y = pd.get_dummies(df['category']).values\n",
        "print('Shape of label tensor:', Y.shape)"
      ],
      "execution_count": 0,
      "outputs": [
        {
          "output_type": "stream",
          "text": [
            "Shape of label tensor: (288603, 17)\n"
          ],
          "name": "stdout"
        }
      ]
    },
    {
      "cell_type": "code",
      "metadata": {
        "id": "XTzNouJq4G7E",
        "colab_type": "code",
        "outputId": "0ccc5d72-7c38-4e84-abce-08e337dfc784",
        "colab": {
          "base_uri": "https://localhost:8080/",
          "height": 51
        }
      },
      "source": [
        "# Train test split.\n",
        "from sklearn.model_selection import train_test_split\n",
        "\n",
        "X_train, X_test, Y_train, Y_test = train_test_split(X,Y, test_size = 0.10, random_state = 42)\n",
        "print(X_train.shape,Y_train.shape)\n",
        "print(X_test.shape,Y_test.shape)"
      ],
      "execution_count": 0,
      "outputs": [
        {
          "output_type": "stream",
          "text": [
            "(259742, 250) (259742, 17)\n",
            "(28861, 250) (28861, 17)\n"
          ],
          "name": "stdout"
        }
      ]
    },
    {
      "cell_type": "code",
      "metadata": {
        "id": "F1qh_CKr4G4i",
        "colab_type": "code",
        "outputId": "28f3a8de-c8e9-4646-9542-b9ab620f4b23",
        "colab": {
          "base_uri": "https://localhost:8080/",
          "height": 258
        }
      },
      "source": [
        "# The first layer is the embedded layer that uses 100 length vectors to represent each word.\n",
        "# SpatialDropout1D performs variational dropout in NLP models.\n",
        "# The next layer is the LSTM layer with 100 memory units.\n",
        "# The output layer must create 13 output values, one for each class.\n",
        "# Activation function is softmax for multi-class classification.\n",
        "# Because it is a multi-class classification problem, categorical_crossentropy is used as the loss function.\n",
        "\n",
        "from keras.models import Sequential\n",
        "from keras.layers import Input, Dense, Embedding, SpatialDropout1D, add, concatenate\n",
        "from keras.layers.recurrent import LSTM\n",
        "from keras.callbacks import ModelCheckpoint, EarlyStopping\n",
        "\n",
        "model = Sequential()\n",
        "model.add(Embedding(MAX_NB_WORDS, EMBEDDING_DIM, input_length=X.shape[1]))\n",
        "model.add(SpatialDropout1D(0.2))\n",
        "model.add(LSTM(100, dropout=0.2, recurrent_dropout=0.2))\n",
        "model.add(Dense(17, activation='softmax'))\n",
        "model.compile(loss='categorical_crossentropy', optimizer='adam', metrics=['accuracy'])\n",
        "\n",
        "epochs = 5\n",
        "batch_size = 64\n",
        "\n",
        "history = model.fit(X_train, Y_train, epochs=epochs, batch_size=batch_size,validation_split=0.1,callbacks=[EarlyStopping(monitor='val_loss', patience=3, min_delta=0.0001)])\n"
      ],
      "execution_count": 0,
      "outputs": [
        {
          "output_type": "stream",
          "text": [
            "/usr/local/lib/python3.6/dist-packages/tensorflow/python/framework/indexed_slices.py:434: UserWarning: Converting sparse IndexedSlices to a dense Tensor of unknown shape. This may consume a large amount of memory.\n",
            "  \"Converting sparse IndexedSlices to a dense Tensor of unknown shape. \"\n"
          ],
          "name": "stderr"
        },
        {
          "output_type": "stream",
          "text": [
            "Train on 233767 samples, validate on 25975 samples\n",
            "Epoch 1/5\n",
            "233767/233767 [==============================] - 1637s 7ms/step - loss: 1.4657 - accuracy: 0.5649 - val_loss: 1.1474 - val_accuracy: 0.6537\n",
            "Epoch 2/5\n",
            "233767/233767 [==============================] - 1592s 7ms/step - loss: 1.0347 - accuracy: 0.6848 - val_loss: 1.0909 - val_accuracy: 0.6684\n",
            "Epoch 3/5\n",
            "233767/233767 [==============================] - 1603s 7ms/step - loss: 0.8913 - accuracy: 0.7230 - val_loss: 1.1076 - val_accuracy: 0.6695\n",
            "Epoch 4/5\n",
            "233767/233767 [==============================] - 1638s 7ms/step - loss: 0.7899 - accuracy: 0.7520 - val_loss: 1.1377 - val_accuracy: 0.6639\n",
            "Epoch 5/5\n",
            "233767/233767 [==============================] - 1655s 7ms/step - loss: 0.7118 - accuracy: 0.7748 - val_loss: 1.1922 - val_accuracy: 0.6606\n"
          ],
          "name": "stdout"
        }
      ]
    },
    {
      "cell_type": "code",
      "metadata": {
        "id": "apLvgc5f4G1u",
        "colab_type": "code",
        "outputId": "60386244-393a-414d-8ff8-2ca1720f8e62",
        "colab": {
          "base_uri": "https://localhost:8080/",
          "height": 85
        }
      },
      "source": [
        "accr = model.evaluate(X_test,Y_test)\n",
        "print('Test set\\n  Loss: {:0.3f}\\n  Accuracy: {:0.3f}'.format(accr[0],accr[1]))"
      ],
      "execution_count": 0,
      "outputs": [
        {
          "output_type": "stream",
          "text": [
            "28861/28861 [==============================] - 49s 2ms/step\n",
            "Test set\n",
            "  Loss: 1.187\n",
            "  Accuracy: 0.661\n"
          ],
          "name": "stdout"
        }
      ]
    },
    {
      "cell_type": "code",
      "metadata": {
        "id": "2ztp4puPL73t",
        "colab_type": "code",
        "colab": {}
      },
      "source": [
        "# dump the model for future use\n",
        "import pickle\n",
        "\n",
        "pickle.dump(model, open(\"/content/drive/My Drive/MAJOR 2- WORK IN PROGRESS/MODELS/model_LSTM_less7000_17classes.sav\", 'wb'))\n"
      ],
      "execution_count": 0,
      "outputs": []
    },
    {
      "cell_type": "code",
      "metadata": {
        "id": "yx9n_IM44mBm",
        "colab_type": "code",
        "outputId": "6098369b-6b5d-40a6-902f-b0a5037fb9e3",
        "colab": {
          "base_uri": "https://localhost:8080/",
          "height": 281
        }
      },
      "source": [
        "import matplotlib.pyplot as plt\n",
        "\n",
        "plt.title('Loss')\n",
        "plt.plot(history.history['loss'], label='train')\n",
        "plt.plot(history.history['val_loss'], label='test')\n",
        "plt.legend()\n",
        "plt.show();"
      ],
      "execution_count": 0,
      "outputs": [
        {
          "output_type": "display_data",
          "data": {
            "image/png": "[encoded data removed]",
            "text/plain": [
              "<Figure size 432x288 with 1 Axes>"
            ]
          },
          "metadata": {
            "tags": [],
            "needs_background": "light"
          }
        }
      ]
    },
    {
      "cell_type": "code",
      "metadata": {
        "id": "E0IGk1D5ddfU",
        "colab_type": "code",
        "outputId": "adccb50f-0475-467a-f90d-e7d38b208fc6",
        "colab": {
          "base_uri": "https://localhost:8080/",
          "height": 34
        }
      },
      "source": [
        "history.history.keys()"
      ],
      "execution_count": 0,
      "outputs": [
        {
          "output_type": "execute_result",
          "data": {
            "text/plain": [
              "dict_keys(['val_loss', 'val_accuracy', 'loss', 'accuracy'])"
            ]
          },
          "metadata": {
            "tags": []
          },
          "execution_count": 87
        }
      ]
    },
    {
      "cell_type": "code",
      "metadata": {
        "id": "dcV6TqSc4l_4",
        "colab_type": "code",
        "outputId": "0ff6092c-c5dc-45b2-8389-dd0c83346f9c",
        "colab": {
          "base_uri": "https://localhost:8080/",
          "height": 281
        }
      },
      "source": [
        "plt.title('Accuracy')\n",
        "plt.plot(history.history['accuracy'], label='train')\n",
        "plt.plot(history.history['val_accuracy'], label='test')\n",
        "plt.legend()\n",
        "plt.show();"
      ],
      "execution_count": 0,
      "outputs": [
        {
          "output_type": "display_data",
          "data": {
            "image/png": "[encoded data removed]",
            "text/plain": [
              "<Figure size 432x288 with 1 Axes>"
            ]
          },
          "metadata": {
            "tags": [],
            "needs_background": "light"
          }
        }
      ]
    },
    {
      "cell_type": "code",
      "metadata": {
        "id": "60nZP2Px4l8t",
        "colab_type": "code",
        "colab": {}
      },
      "source": [
        ""
      ],
      "execution_count": 0,
      "outputs": []
    }
  ]
}